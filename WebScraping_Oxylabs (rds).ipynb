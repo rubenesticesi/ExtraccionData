{
  "cells": [
    {
      "cell_type": "markdown",
      "metadata": {
        "id": "TG9OpOW3zJL3"
      },
      "source": [
        "# Proyecto Final: Web Scraping de E‑commerce (Oxylabs Sandbox)\n",
        "\n",
        "Este cuaderno implementa **todo el flujo** solicitado: listado ➜ detalle ➜ combinación ➜ DataFrame/CSV ➜ *opcional* carga a **Azure Blob Storage**.\n",
        "\n",
        "## Cómo usar\n",
        "1. Ejecuta la celda de **Instalación** (en Colab ya viene `pandas`/`requests`, pero incluimos por si acaso).\n",
        "2. Ejecuta la celda de **Configuración y utilidades**.\n",
        "3. Ejecuta **Paso 1: Función de listado** y **Paso 2: Función de detalle**.\n",
        "4. Ejecuta **Paso 3: Orquestación y combinación** (recolecta >= 5 páginas por defecto).\n",
        "5. Ejecuta **Paso 4: Guardar a DataFrame y CSV**.\n",
        "6. (Opcional) Ejecuta **Carga a Azure Blob Storage** (configura la variable de entorno `AZURE_STORAGE_CONNECTION_STRING` o pega el *connection string* en la función de carga).\n",
        "\n",
        "> **Nota**: Este sitio es un _sandbox_ público para prácticas de scraping (Oxylabs) y puede variar sutilmente su HTML con el tiempo. El código incluye validaciones y valores por defecto.\n",
        "\n",
        "---\n",
        "**Objetivo**\n",
        "- Extraer de https://sandbox.oxylabs.io/products la información de cada producto:\n",
        "  - *Título*, *Géneros*, *Descripción*, *Precio*, *Desarrollador*, *Tipo*, *URL*.\n",
        "- Navegar por **≥ 5 páginas** del catálogo.\n",
        "- Exportar resultados a **`productos.csv`**.\n",
        "- Subir el CSV a un contenedor de **Azure Blob Storage** (p. ej. `scraping-data`).\n",
        "\n",
        "---\n",
        "## Estructura del cuaderno\n",
        "- **1. Preparar el notebook para la extracción**\n",
        "  - a. Explorar y cargar la página en el notebook.\n",
        "  - b. Entender la estructura HTML objetivo.\n",
        "- **2. Estrategia de extracción**\n",
        "  - Paso 1: Función de **listado**\n",
        "  - Paso 2: Función de **detalle**\n",
        "  - Paso 3: **Combinar** información\n",
        "  - Paso 4: **DataFrame** y **CSV**\n",
        "- **3. Cargar CSV a Azure Blob Storage (opcional)**\n",
        "- **4. Verificar resultados en Azure** (realizado desde el Portal)\n"
      ],
      "id": "TG9OpOW3zJL3"
    },
    {
      "cell_type": "code",
      "metadata": {
        "id": "install",
        "colab": {
          "base_uri": "https://localhost:8080/"
        },
        "outputId": "06dd6a48-3d16-4696-e346-c688d5ac41aa"
      },
      "execution_count": null,
      "outputs": [
        {
          "output_type": "stream",
          "name": "stdout",
          "text": [
            "\u001b[2K     \u001b[90m━━━━━━━━━━━━━━━━━━━━━━━━━━━━━━━━━━━━━━━━\u001b[0m \u001b[32m47.1/47.1 kB\u001b[0m \u001b[31m2.8 MB/s\u001b[0m eta \u001b[36m0:00:00\u001b[0m\n",
            "\u001b[2K   \u001b[90m━━━━━━━━━━━━━━━━━━━━━━━━━━━━━━━━━━━━━━━━\u001b[0m \u001b[32m428.9/428.9 kB\u001b[0m \u001b[31m12.7 MB/s\u001b[0m eta \u001b[36m0:00:00\u001b[0m\n",
            "\u001b[2K   \u001b[90m━━━━━━━━━━━━━━━━━━━━━━━━━━━━━━━━━━━━━━━━\u001b[0m \u001b[32m213.3/213.3 kB\u001b[0m \u001b[31m13.9 MB/s\u001b[0m eta \u001b[36m0:00:00\u001b[0m\n",
            "\u001b[?25h✔️ Instalación verificada\n"
          ]
        }
      ],
      "source": [
        "# === Instalación (si estás en Colab, esto normalmente funciona tal cual) ===\n",
        "import sys\n",
        "IN_COLAB = 'google.colab' in sys.modules\n",
        "\n",
        "def pip_install(pkg):\n",
        "    try:\n",
        "        __import__(pkg.split('==')[0].split('[')[0])\n",
        "    except Exception:\n",
        "        !pip -q install {pkg}\n",
        "\n",
        "for p in [\n",
        "    'requests',\n",
        "    'beautifulsoup4',\n",
        "    'lxml',\n",
        "    'pandas',\n",
        "    'tqdm',\n",
        "    'azure-storage-blob'\n",
        "]:\n",
        "    pip_install(p)\n",
        "\n",
        "print('✔️ Instalación verificada')"
      ],
      "id": "install"
    },
    {
      "cell_type": "code",
      "metadata": {
        "id": "imports",
        "colab": {
          "base_uri": "https://localhost:8080/"
        },
        "outputId": "a0d85129-879c-447d-b272-ed0d5f10ed30"
      },
      "execution_count": null,
      "outputs": [
        {
          "output_type": "stream",
          "name": "stdout",
          "text": [
            "✔️ Configuración lista\n"
          ]
        }
      ],
      "source": [
        "# === Configuración y utilidades ===\n",
        "import os\n",
        "import math\n",
        "import time\n",
        "import random\n",
        "from typing import List, Dict\n",
        "import requests\n",
        "from bs4 import BeautifulSoup\n",
        "import pandas as pd\n",
        "from tqdm import tqdm\n",
        "\n",
        "BASE_URL = 'https://sandbox.oxylabs.io'\n",
        "CATALOG_URL = f'{BASE_URL}/products'\n",
        "\n",
        "# Sesión HTTP con encabezados y reintentos sencillos\n",
        "session = requests.Session()\n",
        "session.headers.update({\n",
        "    'User-Agent': 'Mozilla/5.0 (X11; Linux x86_64) AppleWebKit/537.36 '\n",
        "                  '(KHTML, like Gecko) Chrome/120.0.0.0 Safari/537.36',\n",
        "    'Accept-Language': 'es-ES,es;q=0.9,en;q=0.8'\n",
        "})\n",
        "\n",
        "def get_soup(url: str, max_retries: int = 3, backoff: float = 1.0) -> BeautifulSoup:\n",
        "    last_exc = None\n",
        "    for attempt in range(1, max_retries + 1):\n",
        "        try:\n",
        "            resp = session.get(url, timeout=20)\n",
        "            resp.raise_for_status()\n",
        "            return BeautifulSoup(resp.text, 'lxml')\n",
        "        except Exception as e:\n",
        "            last_exc = e\n",
        "            time.sleep(backoff * attempt)\n",
        "    raise last_exc\n",
        "\n",
        "def abs_url(href: str) -> str:\n",
        "    if not href:\n",
        "        return ''\n",
        "    if href.startswith('http://') or href.startswith('https://'):\n",
        "        return href\n",
        "    return BASE_URL.rstrip('/') + '/' + href.lstrip('/')\n",
        "\n",
        "print('✔️ Configuración lista')"
      ],
      "id": "imports"
    },
    {
      "cell_type": "markdown",
      "metadata": {
        "id": "uBpFyVcDzJL8"
      },
      "source": [
        "## 1. Preparar el notebook para la extracción\n",
        "### a) Explorar y cargar la página en el notebook\n",
        "A continuación validamos la **petición HTTP** y que podemos **parsear el HTML**."
      ],
      "id": "uBpFyVcDzJL8"
    },
    {
      "cell_type": "code",
      "metadata": {
        "id": "probe",
        "colab": {
          "base_uri": "https://localhost:8080/"
        },
        "outputId": "0e743aa5-4c63-4480-fcf9-f3414e3b4176"
      },
      "execution_count": null,
      "outputs": [
        {
          "output_type": "stream",
          "name": "stdout",
          "text": [
            "Título de la página: E-commerce\t| Oxylabs Scraping Sandbox\n",
            "Primeros 200 caracteres del HTML:\n",
            " E-commerce\t| Oxylabs Scraping SandboxGame platforms:AllNintendo platformwiiwii-unintendo-64switchgamecubegame-boy-advance3dsdsXbox platformDreamcastPlaystation platformPcStadiaNote!This is a sandbox w ...\n"
          ]
        }
      ],
      "source": [
        "soup_test = get_soup(CATALOG_URL)\n",
        "print('Título de la página:', soup_test.title.get_text(strip=True) if soup_test.title else 'N/A')\n",
        "print('Primeros 200 caracteres del HTML:\\n', soup_test.get_text(strip=True)[:200], '...')"
      ],
      "id": "probe"
    },
    {
      "cell_type": "markdown",
      "metadata": {
        "id": "n0oAwqVxzJL9"
      },
      "source": [
        "### b) Entendiendo la estructura de la página\n",
        "Cada producto está contenido en un bloque similar a:\n",
        "```html\n",
        "<div class=\"product-card\">\n",
        "  <a class=\"card-header\" href=\"/products/1\"> ... </a>\n",
        "  <h4 class=\"title\">Título</h4>\n",
        "  <p class=\"category\">\n",
        "    <span>Acción</span><span>Aventura</span>\n",
        "  </p>\n",
        "</div>\n",
        "```\n",
        "Y el **detalle** contiene `Developer`, `Type`, `Description`, `Price`, etc."
      ],
      "id": "n0oAwqVxzJL9"
    },
    {
      "cell_type": "markdown",
      "metadata": {
        "id": "d3-OYtKtzJL-"
      },
      "source": [
        "## 2. Estrategia de extracción\n",
        "### Paso 1: Función de listado (recorre páginas del catálogo y extrae básicos)"
      ],
      "id": "d3-OYtKtzJL-"
    },
    {
      "cell_type": "code",
      "metadata": {
        "id": "list-fn",
        "colab": {
          "base_uri": "https://localhost:8080/"
        },
        "outputId": "3466ac8f-4810-4b99-8f46-ce5cfb516bea"
      },
      "execution_count": null,
      "outputs": [
        {
          "output_type": "stream",
          "name": "stdout",
          "text": [
            "✔️ Funciones de listado listas\n"
          ]
        }
      ],
      "source": [
        "def scrape_listing_page(url: str) -> List[Dict]:\n",
        "    \"\"\"Devuelve una lista de dicts con: titulo, url, generos (string) y descripcion resumen si está disponible.\"\"\"\n",
        "    soup = get_soup(url)\n",
        "    cards = soup.find_all('div', class_='product-card')\n",
        "    results = []\n",
        "    for card in cards:\n",
        "        # Título\n",
        "        title_el = card.find('h4', class_='title')\n",
        "        titulo = title_el.get_text(strip=True) if title_el else 'N/A'\n",
        "        # URL detalle\n",
        "        a_el = card.find('a', class_='card-header')\n",
        "        href = a_el.get('href') if a_el else ''\n",
        "        url_abs = abs_url(href)\n",
        "        # Géneros\n",
        "        cat_p = card.find('p', class_='category')\n",
        "        generos = []\n",
        "        if cat_p:\n",
        "            for span in cat_p.select('span'):\n",
        "                txt = span.get_text(strip=True)\n",
        "                if txt:\n",
        "                    generos.append(txt)\n",
        "        generos_str = ', '.join(generos) if generos else 'N/A'\n",
        "        # Descripción breve si existiera en la tarjeta\n",
        "        desc_el = card.find('p', class_='description')\n",
        "        desc_short = desc_el.get_text(strip=True) if desc_el else ''\n",
        "\n",
        "        results.append({\n",
        "            'Titulo': titulo,\n",
        "            'URL': url_abs,\n",
        "            'Generos': generos_str,\n",
        "            'Descripcion_listado': desc_short\n",
        "        })\n",
        "    return results\n",
        "\n",
        "def scrape_listings_n_pages(base_catalog_url: str, n_pages: int = 5, page_param: str = 'page') -> List[Dict]:\n",
        "    \"\"\"Recorre n páginas de catálogo. Asume paginación con query-string ?page=2,3,...\"\"\"\n",
        "    all_rows = []\n",
        "    for page in tqdm(range(1, n_pages + 1), desc='Listados'):\n",
        "        url = base_catalog_url if page == 1 else f\"{base_catalog_url}?{page_param}={page}\"\n",
        "        page_rows = scrape_listing_page(url)\n",
        "        all_rows.extend(page_rows)\n",
        "        time.sleep(random.uniform(0.5, 1.2))  # pequeña espera entre páginas\n",
        "    return all_rows\n",
        "\n",
        "print('✔️ Funciones de listado listas')"
      ],
      "id": "list-fn"
    },
    {
      "cell_type": "markdown",
      "metadata": {
        "id": "Pxpk7iK9zJL_"
      },
      "source": [
        "### Paso 2: Función de detalle (visita cada producto y extrae campos faltantes)\n",
        "Se recoge: **Developer**, **Type**, **Descripción** (ampliada), **Precio**."
      ],
      "id": "Pxpk7iK9zJL_"
    },
    {
      "cell_type": "code",
      "metadata": {
        "id": "detail-fn",
        "colab": {
          "base_uri": "https://localhost:8080/"
        },
        "outputId": "e892fd34-44e4-46ad-bb62-d20be011007c"
      },
      "execution_count": null,
      "outputs": [
        {
          "output_type": "stream",
          "name": "stdout",
          "text": [
            "✔️ Funciones de detalle listas\n"
          ]
        }
      ],
      "source": [
        "def clean_prefix(text: str, prefix: str) -> str:\n",
        "    if not text:\n",
        "        return ''\n",
        "    t = text.strip()\n",
        "    if t.lower().startswith(prefix.lower()):\n",
        "        return t[len(prefix):].strip(': ').strip()\n",
        "    return t\n",
        "\n",
        "def scrape_detail(url: str) -> Dict:\n",
        "    soup = get_soup(url)\n",
        "    # Developer y Type suelen estar en brand-wrapper\n",
        "    dev = 'N/A'\n",
        "    typ = 'N/A'\n",
        "    brand_wrapper = soup.find('div', class_='brand-wrapper')\n",
        "    if brand_wrapper:\n",
        "        spans = brand_wrapper.find_all('span')\n",
        "        for sp in spans:\n",
        "            txt = sp.get_text(strip=True)\n",
        "            if not txt:\n",
        "                continue\n",
        "            low = txt.lower()\n",
        "            if 'developer' in low:\n",
        "                dev = clean_prefix(txt, 'Developer')\n",
        "            elif 'type' in low:\n",
        "                typ = clean_prefix(txt, 'Type')\n",
        "\n",
        "    # Descripción\n",
        "    desc_el = soup.find('p', class_='description')\n",
        "    desc = desc_el.get_text(strip=True) if desc_el else 'N/A'\n",
        "\n",
        "    # Precio\n",
        "    price_el = soup.find('div', class_='price')\n",
        "    price = price_el.get_text(strip=True) if price_el else 'N/A'\n",
        "\n",
        "    return {\n",
        "        'Developer': dev if dev else 'N/A',\n",
        "        'Type': typ if typ else 'N/A',\n",
        "        'Descripcion': desc if desc else 'N/A',\n",
        "        'Precio': price if price else 'N/A'\n",
        "    }\n",
        "\n",
        "def enrich_with_details(rows: List[Dict], pause_range=(0.4, 1.1)) -> List[Dict]:\n",
        "    enriched = []\n",
        "    for row in tqdm(rows, desc='Detalles'):\n",
        "        url = row.get('URL', '')\n",
        "        detail = {}\n",
        "        try:\n",
        "            if url:\n",
        "                detail = scrape_detail(url)\n",
        "        except Exception as e:\n",
        "            detail = {'Developer': 'N/A', 'Type': 'N/A', 'Descripcion': 'N/A', 'Precio': 'N/A'}\n",
        "        merged = {**row, **detail}\n",
        "        enriched.append(merged)\n",
        "        time.sleep(random.uniform(*pause_range))  # pequeña espera entre solicitudes\n",
        "    return enriched\n",
        "\n",
        "print('✔️ Funciones de detalle listas')"
      ],
      "id": "detail-fn"
    },
    {
      "cell_type": "markdown",
      "metadata": {
        "id": "T78Zmk_zzJMA"
      },
      "source": [
        "### Paso 3: Combinar la información (flujo principal)\n",
        "Orquestamos los pasos anteriores para construir la **lista completa de productos**."
      ],
      "id": "T78Zmk_zzJMA"
    },
    {
      "cell_type": "code",
      "metadata": {
        "id": "orchestrate",
        "colab": {
          "base_uri": "https://localhost:8080/"
        },
        "outputId": "bda0fa1d-7c60-4e8a-b8ff-9feffa83d87c"
      },
      "execution_count": null,
      "outputs": [
        {
          "output_type": "stream",
          "name": "stdout",
          "text": [
            "✔️ Orquestador listo\n"
          ]
        }
      ],
      "source": [
        "def run_scraper(n_pages: int = 5) -> List[Dict]:\n",
        "    listings = scrape_listings_n_pages(CATALOG_URL, n_pages=n_pages)\n",
        "    print(f'Total productos listados: {len(listings)}')\n",
        "    data = enrich_with_details(listings)\n",
        "    print(f'Total productos con detalle: {len(data)}')\n",
        "    return data\n",
        "\n",
        "print('✔️ Orquestador listo')"
      ],
      "id": "orchestrate"
    },
    {
      "cell_type": "markdown",
      "metadata": {
        "id": "VvwY0hOFzJMB"
      },
      "source": [
        "### Paso 4: Guardar en un DataFrame y exportar a CSV"
      ],
      "id": "VvwY0hOFzJMB"
    },
    {
      "cell_type": "code",
      "metadata": {
        "id": "to-df",
        "colab": {
          "base_uri": "https://localhost:8080/",
          "height": 646
        },
        "outputId": "36e31529-5454-4080-f0b7-ee0a3d09b3b0"
      },
      "execution_count": null,
      "outputs": [
        {
          "output_type": "stream",
          "name": "stderr",
          "text": [
            "Listados: 100%|██████████| 5/5 [00:07<00:00,  1.56s/it]\n"
          ]
        },
        {
          "output_type": "stream",
          "name": "stdout",
          "text": [
            "Total productos listados: 160\n"
          ]
        },
        {
          "output_type": "stream",
          "name": "stderr",
          "text": [
            "Detalles: 100%|██████████| 160/160 [02:20<00:00,  1.14it/s]"
          ]
        },
        {
          "output_type": "stream",
          "name": "stdout",
          "text": [
            "Total productos con detalle: 160\n"
          ]
        },
        {
          "output_type": "stream",
          "name": "stderr",
          "text": [
            "\n"
          ]
        },
        {
          "output_type": "execute_result",
          "data": {
            "text/plain": [
              "                                 Titulo  \\\n",
              "0  The Legend of Zelda: Ocarina of Time   \n",
              "1                    Super Mario Galaxy   \n",
              "2                  Super Mario Galaxy 2   \n",
              "3                         Metroid Prime   \n",
              "4                   Super Mario Odyssey   \n",
              "\n",
              "                                 Generos           Developer          Type  \\\n",
              "0              Action Adventure, Fantasy            Nintendo  singleplayer   \n",
              "1                 Action, Platformer, 3D            Nintendo  singleplayer   \n",
              "2                 Action, Platformer, 3D  Nintendo EAD Tokyo  singleplayer   \n",
              "3  Action, Shooter, First-Person, Sci-Fi       Retro Studios  singleplayer   \n",
              "4                 Action, Platformer, 3D            Nintendo  singleplayer   \n",
              "\n",
              "    Precio                                        Descripcion  \\\n",
              "0  91,99 €  As a young boy, Link is tricked by Ganondorf, ...   \n",
              "1  91,99 €  [Metacritic's 2007 Wii Game of the Year] The u...   \n",
              "2  91,99 €  Super Mario Galaxy 2, the sequel to the galaxy...   \n",
              "3  89,99 €  Samus returns in a new mission to unravel the ...   \n",
              "4  89,99 €  New Evolution of Mario Sandbox-Style Gameplay....   \n",
              "\n",
              "                                 Descripcion_listado  \\\n",
              "0  As a young boy, Link is tricked by Ganondorf, ...   \n",
              "1  [Metacritic's 2007 Wii Game of the Year] The u...   \n",
              "2  Super Mario Galaxy 2, the sequel to the galaxy...   \n",
              "3  Samus returns in a new mission to unravel the ...   \n",
              "4  New Evolution of Mario Sandbox-Style Gameplay....   \n",
              "\n",
              "                                     URL  \n",
              "0  https://sandbox.oxylabs.io/products/1  \n",
              "1  https://sandbox.oxylabs.io/products/2  \n",
              "2  https://sandbox.oxylabs.io/products/3  \n",
              "3  https://sandbox.oxylabs.io/products/4  \n",
              "4  https://sandbox.oxylabs.io/products/5  "
            ],
            "text/html": [
              "\n",
              "  <div id=\"df-4c8ce9a7-94e2-4b10-98c4-d214b57e68d5\" class=\"colab-df-container\">\n",
              "    <div>\n",
              "<style scoped>\n",
              "    .dataframe tbody tr th:only-of-type {\n",
              "        vertical-align: middle;\n",
              "    }\n",
              "\n",
              "    .dataframe tbody tr th {\n",
              "        vertical-align: top;\n",
              "    }\n",
              "\n",
              "    .dataframe thead th {\n",
              "        text-align: right;\n",
              "    }\n",
              "</style>\n",
              "<table border=\"1\" class=\"dataframe\">\n",
              "  <thead>\n",
              "    <tr style=\"text-align: right;\">\n",
              "      <th></th>\n",
              "      <th>Titulo</th>\n",
              "      <th>Generos</th>\n",
              "      <th>Developer</th>\n",
              "      <th>Type</th>\n",
              "      <th>Precio</th>\n",
              "      <th>Descripcion</th>\n",
              "      <th>Descripcion_listado</th>\n",
              "      <th>URL</th>\n",
              "    </tr>\n",
              "  </thead>\n",
              "  <tbody>\n",
              "    <tr>\n",
              "      <th>0</th>\n",
              "      <td>The Legend of Zelda: Ocarina of Time</td>\n",
              "      <td>Action Adventure, Fantasy</td>\n",
              "      <td>Nintendo</td>\n",
              "      <td>singleplayer</td>\n",
              "      <td>91,99 €</td>\n",
              "      <td>As a young boy, Link is tricked by Ganondorf, ...</td>\n",
              "      <td>As a young boy, Link is tricked by Ganondorf, ...</td>\n",
              "      <td>https://sandbox.oxylabs.io/products/1</td>\n",
              "    </tr>\n",
              "    <tr>\n",
              "      <th>1</th>\n",
              "      <td>Super Mario Galaxy</td>\n",
              "      <td>Action, Platformer, 3D</td>\n",
              "      <td>Nintendo</td>\n",
              "      <td>singleplayer</td>\n",
              "      <td>91,99 €</td>\n",
              "      <td>[Metacritic's 2007 Wii Game of the Year] The u...</td>\n",
              "      <td>[Metacritic's 2007 Wii Game of the Year] The u...</td>\n",
              "      <td>https://sandbox.oxylabs.io/products/2</td>\n",
              "    </tr>\n",
              "    <tr>\n",
              "      <th>2</th>\n",
              "      <td>Super Mario Galaxy 2</td>\n",
              "      <td>Action, Platformer, 3D</td>\n",
              "      <td>Nintendo EAD Tokyo</td>\n",
              "      <td>singleplayer</td>\n",
              "      <td>91,99 €</td>\n",
              "      <td>Super Mario Galaxy 2, the sequel to the galaxy...</td>\n",
              "      <td>Super Mario Galaxy 2, the sequel to the galaxy...</td>\n",
              "      <td>https://sandbox.oxylabs.io/products/3</td>\n",
              "    </tr>\n",
              "    <tr>\n",
              "      <th>3</th>\n",
              "      <td>Metroid Prime</td>\n",
              "      <td>Action, Shooter, First-Person, Sci-Fi</td>\n",
              "      <td>Retro Studios</td>\n",
              "      <td>singleplayer</td>\n",
              "      <td>89,99 €</td>\n",
              "      <td>Samus returns in a new mission to unravel the ...</td>\n",
              "      <td>Samus returns in a new mission to unravel the ...</td>\n",
              "      <td>https://sandbox.oxylabs.io/products/4</td>\n",
              "    </tr>\n",
              "    <tr>\n",
              "      <th>4</th>\n",
              "      <td>Super Mario Odyssey</td>\n",
              "      <td>Action, Platformer, 3D</td>\n",
              "      <td>Nintendo</td>\n",
              "      <td>singleplayer</td>\n",
              "      <td>89,99 €</td>\n",
              "      <td>New Evolution of Mario Sandbox-Style Gameplay....</td>\n",
              "      <td>New Evolution of Mario Sandbox-Style Gameplay....</td>\n",
              "      <td>https://sandbox.oxylabs.io/products/5</td>\n",
              "    </tr>\n",
              "  </tbody>\n",
              "</table>\n",
              "</div>\n",
              "    <div class=\"colab-df-buttons\">\n",
              "\n",
              "  <div class=\"colab-df-container\">\n",
              "    <button class=\"colab-df-convert\" onclick=\"convertToInteractive('df-4c8ce9a7-94e2-4b10-98c4-d214b57e68d5')\"\n",
              "            title=\"Convert this dataframe to an interactive table.\"\n",
              "            style=\"display:none;\">\n",
              "\n",
              "  <svg xmlns=\"http://www.w3.org/2000/svg\" height=\"24px\" viewBox=\"0 -960 960 960\">\n",
              "    <path d=\"M120-120v-720h720v720H120Zm60-500h600v-160H180v160Zm220 220h160v-160H400v160Zm0 220h160v-160H400v160ZM180-400h160v-160H180v160Zm440 0h160v-160H620v160ZM180-180h160v-160H180v160Zm440 0h160v-160H620v160Z\"/>\n",
              "  </svg>\n",
              "    </button>\n",
              "\n",
              "  <style>\n",
              "    .colab-df-container {\n",
              "      display:flex;\n",
              "      gap: 12px;\n",
              "    }\n",
              "\n",
              "    .colab-df-convert {\n",
              "      background-color: #E8F0FE;\n",
              "      border: none;\n",
              "      border-radius: 50%;\n",
              "      cursor: pointer;\n",
              "      display: none;\n",
              "      fill: #1967D2;\n",
              "      height: 32px;\n",
              "      padding: 0 0 0 0;\n",
              "      width: 32px;\n",
              "    }\n",
              "\n",
              "    .colab-df-convert:hover {\n",
              "      background-color: #E2EBFA;\n",
              "      box-shadow: 0px 1px 2px rgba(60, 64, 67, 0.3), 0px 1px 3px 1px rgba(60, 64, 67, 0.15);\n",
              "      fill: #174EA6;\n",
              "    }\n",
              "\n",
              "    .colab-df-buttons div {\n",
              "      margin-bottom: 4px;\n",
              "    }\n",
              "\n",
              "    [theme=dark] .colab-df-convert {\n",
              "      background-color: #3B4455;\n",
              "      fill: #D2E3FC;\n",
              "    }\n",
              "\n",
              "    [theme=dark] .colab-df-convert:hover {\n",
              "      background-color: #434B5C;\n",
              "      box-shadow: 0px 1px 3px 1px rgba(0, 0, 0, 0.15);\n",
              "      filter: drop-shadow(0px 1px 2px rgba(0, 0, 0, 0.3));\n",
              "      fill: #FFFFFF;\n",
              "    }\n",
              "  </style>\n",
              "\n",
              "    <script>\n",
              "      const buttonEl =\n",
              "        document.querySelector('#df-4c8ce9a7-94e2-4b10-98c4-d214b57e68d5 button.colab-df-convert');\n",
              "      buttonEl.style.display =\n",
              "        google.colab.kernel.accessAllowed ? 'block' : 'none';\n",
              "\n",
              "      async function convertToInteractive(key) {\n",
              "        const element = document.querySelector('#df-4c8ce9a7-94e2-4b10-98c4-d214b57e68d5');\n",
              "        const dataTable =\n",
              "          await google.colab.kernel.invokeFunction('convertToInteractive',\n",
              "                                                    [key], {});\n",
              "        if (!dataTable) return;\n",
              "\n",
              "        const docLinkHtml = 'Like what you see? Visit the ' +\n",
              "          '<a target=\"_blank\" href=https://colab.research.google.com/notebooks/data_table.ipynb>data table notebook</a>'\n",
              "          + ' to learn more about interactive tables.';\n",
              "        element.innerHTML = '';\n",
              "        dataTable['output_type'] = 'display_data';\n",
              "        await google.colab.output.renderOutput(dataTable, element);\n",
              "        const docLink = document.createElement('div');\n",
              "        docLink.innerHTML = docLinkHtml;\n",
              "        element.appendChild(docLink);\n",
              "      }\n",
              "    </script>\n",
              "  </div>\n",
              "\n",
              "\n",
              "    <div id=\"df-6e7081cd-cb4a-41c7-ada8-420e1169cb30\">\n",
              "      <button class=\"colab-df-quickchart\" onclick=\"quickchart('df-6e7081cd-cb4a-41c7-ada8-420e1169cb30')\"\n",
              "                title=\"Suggest charts\"\n",
              "                style=\"display:none;\">\n",
              "\n",
              "<svg xmlns=\"http://www.w3.org/2000/svg\" height=\"24px\"viewBox=\"0 0 24 24\"\n",
              "     width=\"24px\">\n",
              "    <g>\n",
              "        <path d=\"M19 3H5c-1.1 0-2 .9-2 2v14c0 1.1.9 2 2 2h14c1.1 0 2-.9 2-2V5c0-1.1-.9-2-2-2zM9 17H7v-7h2v7zm4 0h-2V7h2v10zm4 0h-2v-4h2v4z\"/>\n",
              "    </g>\n",
              "</svg>\n",
              "      </button>\n",
              "\n",
              "<style>\n",
              "  .colab-df-quickchart {\n",
              "      --bg-color: #E8F0FE;\n",
              "      --fill-color: #1967D2;\n",
              "      --hover-bg-color: #E2EBFA;\n",
              "      --hover-fill-color: #174EA6;\n",
              "      --disabled-fill-color: #AAA;\n",
              "      --disabled-bg-color: #DDD;\n",
              "  }\n",
              "\n",
              "  [theme=dark] .colab-df-quickchart {\n",
              "      --bg-color: #3B4455;\n",
              "      --fill-color: #D2E3FC;\n",
              "      --hover-bg-color: #434B5C;\n",
              "      --hover-fill-color: #FFFFFF;\n",
              "      --disabled-bg-color: #3B4455;\n",
              "      --disabled-fill-color: #666;\n",
              "  }\n",
              "\n",
              "  .colab-df-quickchart {\n",
              "    background-color: var(--bg-color);\n",
              "    border: none;\n",
              "    border-radius: 50%;\n",
              "    cursor: pointer;\n",
              "    display: none;\n",
              "    fill: var(--fill-color);\n",
              "    height: 32px;\n",
              "    padding: 0;\n",
              "    width: 32px;\n",
              "  }\n",
              "\n",
              "  .colab-df-quickchart:hover {\n",
              "    background-color: var(--hover-bg-color);\n",
              "    box-shadow: 0 1px 2px rgba(60, 64, 67, 0.3), 0 1px 3px 1px rgba(60, 64, 67, 0.15);\n",
              "    fill: var(--button-hover-fill-color);\n",
              "  }\n",
              "\n",
              "  .colab-df-quickchart-complete:disabled,\n",
              "  .colab-df-quickchart-complete:disabled:hover {\n",
              "    background-color: var(--disabled-bg-color);\n",
              "    fill: var(--disabled-fill-color);\n",
              "    box-shadow: none;\n",
              "  }\n",
              "\n",
              "  .colab-df-spinner {\n",
              "    border: 2px solid var(--fill-color);\n",
              "    border-color: transparent;\n",
              "    border-bottom-color: var(--fill-color);\n",
              "    animation:\n",
              "      spin 1s steps(1) infinite;\n",
              "  }\n",
              "\n",
              "  @keyframes spin {\n",
              "    0% {\n",
              "      border-color: transparent;\n",
              "      border-bottom-color: var(--fill-color);\n",
              "      border-left-color: var(--fill-color);\n",
              "    }\n",
              "    20% {\n",
              "      border-color: transparent;\n",
              "      border-left-color: var(--fill-color);\n",
              "      border-top-color: var(--fill-color);\n",
              "    }\n",
              "    30% {\n",
              "      border-color: transparent;\n",
              "      border-left-color: var(--fill-color);\n",
              "      border-top-color: var(--fill-color);\n",
              "      border-right-color: var(--fill-color);\n",
              "    }\n",
              "    40% {\n",
              "      border-color: transparent;\n",
              "      border-right-color: var(--fill-color);\n",
              "      border-top-color: var(--fill-color);\n",
              "    }\n",
              "    60% {\n",
              "      border-color: transparent;\n",
              "      border-right-color: var(--fill-color);\n",
              "    }\n",
              "    80% {\n",
              "      border-color: transparent;\n",
              "      border-right-color: var(--fill-color);\n",
              "      border-bottom-color: var(--fill-color);\n",
              "    }\n",
              "    90% {\n",
              "      border-color: transparent;\n",
              "      border-bottom-color: var(--fill-color);\n",
              "    }\n",
              "  }\n",
              "</style>\n",
              "\n",
              "      <script>\n",
              "        async function quickchart(key) {\n",
              "          const quickchartButtonEl =\n",
              "            document.querySelector('#' + key + ' button');\n",
              "          quickchartButtonEl.disabled = true;  // To prevent multiple clicks.\n",
              "          quickchartButtonEl.classList.add('colab-df-spinner');\n",
              "          try {\n",
              "            const charts = await google.colab.kernel.invokeFunction(\n",
              "                'suggestCharts', [key], {});\n",
              "          } catch (error) {\n",
              "            console.error('Error during call to suggestCharts:', error);\n",
              "          }\n",
              "          quickchartButtonEl.classList.remove('colab-df-spinner');\n",
              "          quickchartButtonEl.classList.add('colab-df-quickchart-complete');\n",
              "        }\n",
              "        (() => {\n",
              "          let quickchartButtonEl =\n",
              "            document.querySelector('#df-6e7081cd-cb4a-41c7-ada8-420e1169cb30 button');\n",
              "          quickchartButtonEl.style.display =\n",
              "            google.colab.kernel.accessAllowed ? 'block' : 'none';\n",
              "        })();\n",
              "      </script>\n",
              "    </div>\n",
              "\n",
              "    </div>\n",
              "  </div>\n"
            ],
            "application/vnd.google.colaboratory.intrinsic+json": {
              "type": "dataframe",
              "variable_name": "df",
              "summary": "{\n  \"name\": \"df\",\n  \"rows\": 160,\n  \"fields\": [\n    {\n      \"column\": \"Titulo\",\n      \"properties\": {\n        \"dtype\": \"string\",\n        \"num_unique_values\": 160,\n        \"samples\": [\n          \"Dishonored\",\n          \"LittleBigPlanet 2\",\n          \"Galactic Civilizations II: Dark Avatar\"\n        ],\n        \"semantic_type\": \"\",\n        \"description\": \"\"\n      }\n    },\n    {\n      \"column\": \"Generos\",\n      \"properties\": {\n        \"dtype\": \"string\",\n        \"num_unique_values\": 90,\n        \"samples\": [\n          \"General, Modern, Action Adventure, Linear\",\n          \"Action Adventure, Survival\",\n          \"Sports, Alternative, Skateboarding\"\n        ],\n        \"semantic_type\": \"\",\n        \"description\": \"\"\n      }\n    },\n    {\n      \"column\": \"Developer\",\n      \"properties\": {\n        \"dtype\": \"string\",\n        \"num_unique_values\": 88,\n        \"samples\": [\n          \"Funcom\",\n          \"Nintendo\",\n          \"Firaxis Games\"\n        ],\n        \"semantic_type\": \"\",\n        \"description\": \"\"\n      }\n    },\n    {\n      \"column\": \"Type\",\n      \"properties\": {\n        \"dtype\": \"category\",\n        \"num_unique_values\": 3,\n        \"samples\": [\n          \"singleplayer\",\n          \"multiplayer\",\n          \"N/A\"\n        ],\n        \"semantic_type\": \"\",\n        \"description\": \"\"\n      }\n    },\n    {\n      \"column\": \"Precio\",\n      \"properties\": {\n        \"dtype\": \"category\",\n        \"num_unique_values\": 26,\n        \"samples\": [\n          \"81,99 \\u20ac\",\n          \"78,99 \\u20ac\",\n          \"91,99 \\u20ac\"\n        ],\n        \"semantic_type\": \"\",\n        \"description\": \"\"\n      }\n    },\n    {\n      \"column\": \"Descripcion\",\n      \"properties\": {\n        \"dtype\": \"string\",\n        \"num_unique_values\": 160,\n        \"samples\": [\n          \"Approach each assassination with your own unique style. Use shadow and sound to your advantage to traverse silently through levels unseen by enemies, or attack foes head-on as they react to your aggression. The malleable combat system allows you to creatively synthesize your abilities, supernatural powers and gadgets as you negotiate your way through the levels and dispatch your targets. Improvise and adapt to define your modus operandi.\",\n          \"Media Molecule and Sony Europe are already working on a follow-up to their critically acclaimed platformer.\",\n          \"The year is 2226 and the Drengin Empire reigns supreme across the galaxy. But something utterly evil is devouring the Drengin Empire from within. Expand your Galactic Civilizations II experience with espionage agents, player designed opponents, new alien races, new ships, unique planetary environments, asteroid fields, improved graphics and much more. [Stardock]\"\n        ],\n        \"semantic_type\": \"\",\n        \"description\": \"\"\n      }\n    },\n    {\n      \"column\": \"Descripcion_listado\",\n      \"properties\": {\n        \"dtype\": \"string\",\n        \"num_unique_values\": 160,\n        \"samples\": [\n          \"Approach each assassination with your own unique style. Use shadow and sound to your advantage to traverse silently through levels unseen by enemies, or attack foes head-on as they react to your aggression. The malleable combat system allows you to creatively synthesize your abilities, supernatural powers and gadgets as you negotiate your way through the levels and dispatch your targets. Improvise and adapt to define your modus operandi.\",\n          \"Media Molecule and Sony Europe are already working on a follow-up to their critically acclaimed platformer.\",\n          \"The year is 2226 and the Drengin Empire reigns supreme across the galaxy. But something utterly evil is devouring the Drengin Empire from within. Expand your Galactic Civilizations II experience with espionage agents, player designed opponents, new alien races, new ships, unique planetary environments, asteroid fields, improved graphics and much more. [Stardock]\"\n        ],\n        \"semantic_type\": \"\",\n        \"description\": \"\"\n      }\n    },\n    {\n      \"column\": \"URL\",\n      \"properties\": {\n        \"dtype\": \"string\",\n        \"num_unique_values\": 160,\n        \"samples\": [\n          \"https://sandbox.oxylabs.io/products/106\",\n          \"https://sandbox.oxylabs.io/products/109\",\n          \"https://sandbox.oxylabs.io/products/142\"\n        ],\n        \"semantic_type\": \"\",\n        \"description\": \"\"\n      }\n    }\n  ]\n}"
            }
          },
          "metadata": {},
          "execution_count": 11
        }
      ],
      "source": [
        "def to_dataframe(rows: List[Dict]) -> pd.DataFrame:\n",
        "    df = pd.DataFrame(rows)\n",
        "    # Reordenamos columnas a un orden lógico\n",
        "    preferred = ['Titulo','Generos','Developer','Type','Precio','Descripcion','Descripcion_listado','URL']\n",
        "    cols = [c for c in preferred if c in df.columns] + [c for c in df.columns if c not in preferred]\n",
        "    df = df[cols]\n",
        "    return df\n",
        "\n",
        "def save_csv(df: pd.DataFrame, path: str = 'productos.csv') -> str:\n",
        "    df.to_csv(path, index=False, encoding='utf-8')\n",
        "    return os.path.abspath(path)\n",
        "\n",
        "# Ejemplo de corrida completa (descomenta para ejecutar real):\n",
        "data = run_scraper(n_pages=5)\n",
        "df = to_dataframe(data)\n",
        "csv_path = save_csv(df, 'productos.csv')\n",
        "df.head()"
      ],
      "id": "to-df"
    },
    {
      "cell_type": "code",
      "source": [
        "from google.colab import files\n",
        "files.download(\"productos.csv\")\n"
      ],
      "metadata": {
        "colab": {
          "base_uri": "https://localhost:8080/",
          "height": 17
        },
        "id": "BN2Vqano6LCW",
        "outputId": "eac2ffe0-3ccb-4141-807b-a6764586e8c3"
      },
      "id": "BN2Vqano6LCW",
      "execution_count": null,
      "outputs": [
        {
          "output_type": "display_data",
          "data": {
            "text/plain": [
              "<IPython.core.display.Javascript object>"
            ],
            "application/javascript": [
              "\n",
              "    async function download(id, filename, size) {\n",
              "      if (!google.colab.kernel.accessAllowed) {\n",
              "        return;\n",
              "      }\n",
              "      const div = document.createElement('div');\n",
              "      const label = document.createElement('label');\n",
              "      label.textContent = `Downloading \"${filename}\": `;\n",
              "      div.appendChild(label);\n",
              "      const progress = document.createElement('progress');\n",
              "      progress.max = size;\n",
              "      div.appendChild(progress);\n",
              "      document.body.appendChild(div);\n",
              "\n",
              "      const buffers = [];\n",
              "      let downloaded = 0;\n",
              "\n",
              "      const channel = await google.colab.kernel.comms.open(id);\n",
              "      // Send a message to notify the kernel that we're ready.\n",
              "      channel.send({})\n",
              "\n",
              "      for await (const message of channel.messages) {\n",
              "        // Send a message to notify the kernel that we're ready.\n",
              "        channel.send({})\n",
              "        if (message.buffers) {\n",
              "          for (const buffer of message.buffers) {\n",
              "            buffers.push(buffer);\n",
              "            downloaded += buffer.byteLength;\n",
              "            progress.value = downloaded;\n",
              "          }\n",
              "        }\n",
              "      }\n",
              "      const blob = new Blob(buffers, {type: 'application/binary'});\n",
              "      const a = document.createElement('a');\n",
              "      a.href = window.URL.createObjectURL(blob);\n",
              "      a.download = filename;\n",
              "      div.appendChild(a);\n",
              "      a.click();\n",
              "      div.remove();\n",
              "    }\n",
              "  "
            ]
          },
          "metadata": {}
        },
        {
          "output_type": "display_data",
          "data": {
            "text/plain": [
              "<IPython.core.display.Javascript object>"
            ],
            "application/javascript": [
              "download(\"download_718950a5-13bf-4f53-a2da-86fcf8cf6c4c\", \"productos.csv\", 212872)"
            ]
          },
          "metadata": {}
        }
      ]
    },
    {
      "cell_type": "markdown",
      "metadata": {
        "id": "E4xGgzfyzJMB"
      },
      "source": [
        "## 3. Cargando el archivo en Azure Blob Storage (opcional)\n",
        "Configura la variable de entorno `AZURE_STORAGE_CONNECTION_STRING` con el *connection string* de tu **Storage Account**, o pásalo como argumento a la función."
      ],
      "id": "E4xGgzfyzJMB"
    },
    {
      "cell_type": "code",
      "metadata": {
        "id": "azure-upload",
        "colab": {
          "base_uri": "https://localhost:8080/"
        },
        "outputId": "7ab8088a-c043-46e6-f7a1-880d85724be3"
      },
      "execution_count": 37,
      "outputs": [
        {
          "output_type": "stream",
          "name": "stdout",
          "text": [
            "Usando cuenta: storagewebscrappingac\n",
            "Contenedor 'scraping-data' ya existe\n",
            "✔️ Subido productos.csv a contenedor 'scraping-data'\n"
          ]
        }
      ],
      "source": [
        "import os\n",
        "from azure.storage.blob import BlobServiceClient\n",
        "\n",
        "def upload_to_azure(blob_name='productos.csv', container_name='scraping-data', connection_string=None):\n",
        "    # 1) Obtener el connection string (arg > env)\n",
        "    if connection_string is None:\n",
        "        connection_string = os.getenv('AZURE_STORAGE_CONNECTION_STRING', '').strip()\n",
        "\n",
        "    # 2) Validación clara del formato\n",
        "    required = ('DefaultEndpointsProtocol=', 'AccountName=', 'AccountKey=', 'EndpointSuffix=')\n",
        "    if not connection_string or not all(p in connection_string for p in required):\n",
        "        env_val = os.getenv('AZURE_STORAGE_CONNECTION_STRING')\n",
        "        if env_val is None or not env_val.strip():\n",
        "            raise ValueError(\n",
        "                \"AZURE_STORAGE_CONNECTION_STRING no está configurado o el argumento 'connection_string' está vacío.\\n\"\n",
        "                \"Copia el *Connection string* completo desde Azure Portal → Storage account → Access keys.\"\n",
        "            )\n",
        "        else:\n",
        "            raise ValueError(\n",
        "                \"El valor proporcionado NO es un *connection string* válido. Debe incluir:\\n\"\n",
        "                \"DefaultEndpointsProtocol, AccountName, AccountKey y EndpointSuffix (una sola línea).\"\n",
        "            )\n",
        "\n",
        "    # 3) Paranoia anti-placeholders / caracteres inválidos\n",
        "    bad_tokens = (\"<\", \">\", \"%3e\", \"@\", \"\\n\", \"\\r\")\n",
        "    if any(t in connection_string for t in bad_tokens):\n",
        "        raise ValueError(\n",
        "            \"Connection string contiene placeholders o caracteres inválidos (<, >, %3e, @ o saltos de línea).\\n\"\n",
        "            \"Vuelve a copiarlo tal cual del Portal (Access keys → Connection string).\"\n",
        "        )\n",
        "\n",
        "    # 4) Conexión y nombre de cuenta (diagnóstico útil)\n",
        "    bsc = BlobServiceClient.from_connection_string(connection_string)\n",
        "    print(\"Usando cuenta:\", bsc.account_name)\n",
        "\n",
        "    # 5) Contenedor (minúsculas, sin espacios)\n",
        "    container_name = container_name.strip().lower()\n",
        "    cc = bsc.get_container_client(container_name)\n",
        "    try:\n",
        "        cc.create_container()\n",
        "        print(f\"Contenedor '{container_name}' listo\")\n",
        "    except Exception:\n",
        "        print(f\"Contenedor '{container_name}' ya existe\")\n",
        "\n",
        "    # 6) Archivo local\n",
        "    if not os.path.exists(blob_name):\n",
        "        raise FileNotFoundError(f\"No se encontró el archivo local: {blob_name}\")\n",
        "\n",
        "    # 7) Subida\n",
        "    with open(blob_name, \"rb\") as f:\n",
        "        cc.upload_blob(name=blob_name, data=f, overwrite=True)\n",
        "    print(f\"✔️ Subido {blob_name} a contenedor '{container_name}'\")\n",
        "\n",
        "os.environ[\"AZURE_STORAGE_CONNECTION_STRING\"] = \"DefaultEndpointsProtocol=https;AccountName=storagewebscrappingac;AccountKey=VPRTp1P3yeE0zZB9s281HAHQo9UDsifVPwuVTMiDJfUGxTi9VhNjsTGxuX+8+r7SyhtIh5hZ3d8K+AStcEUzBA==;EndpointSuffix=core.windows.net\"\n",
        "upload_to_azure('productos.csv', container_name='scraping-data')\n"
      ],
      "id": "azure-upload"
    },
    {
      "cell_type": "markdown",
      "metadata": {
        "id": "POnVLFMMzJMC"
      },
      "source": [
        "## 4. Verificar los resultados en Azure (Portal)\n",
        "1. Ve a **Azure Portal → Storage Account → Containers**.\n",
        "2. Abre el contenedor **`scraping-data`**.\n",
        "3. Verifica que se encuentre `productos.csv` con la **fecha/hora** de carga.\n",
        "\n",
        "---\n",
        "### Consejos de validación\n",
        "- Revisa `df.head()` y `df.info()` tras la recolección.\n",
        "- Comprueba que el número de filas coincida con la suma de productos de las páginas listadas.\n",
        "- Inspecciona valores `N/A` para verificar qué campos faltan en ciertos productos.\n",
        "\n",
        "### Ética de scraping (buenas prácticas)\n",
        "- Usa *User-Agent* y esperas pequeñas entre solicitudes (implementado).\n",
        "- Maneja errores y faltantes con gracia.\n",
        "- Este *sandbox* es para prácticas educativas; para sitios reales, revisa **robots.txt** y Términos de Uso.\n"
      ],
      "id": "POnVLFMMzJMC"
    },
    {
      "cell_type": "markdown",
      "source": [],
      "metadata": {
        "id": "4kWYoS0vV8gx"
      },
      "id": "4kWYoS0vV8gx"
    },
    {
      "cell_type": "markdown",
      "source": [],
      "metadata": {
        "id": "qvgUiDM7V9LD"
      },
      "id": "qvgUiDM7V9LD"
    },
    {
      "cell_type": "markdown",
      "metadata": {
        "id": "MSPRnzx7V9ze"
      },
      "source": [
        "## 5. DATOS\n",
        "\n",
        "1. Profesora\n",
        "   ANGELA PATRICIA VILLOTA GOMEZ\n",
        "2. Estudiante: Rubén Darío Sabogal urbano\n",
        "4. Practica de WebScraping\n",
        "5. Materia : Extraccion de datos.\n",
        "6. Maestria de IA\n",
        "7. Universidad ICESI\n",
        "8. Octubre de 2025 - cali"
      ],
      "id": "MSPRnzx7V9ze"
    }
  ],
  "metadata": {
    "colab": {
      "provenance": []
    },
    "kernelspec": {
      "display_name": "Python 3",
      "language": "python",
      "name": "python3"
    },
    "language_info": {
      "name": "python",
      "version": "3.x"
    }
  },
  "nbformat": 4,
  "nbformat_minor": 5
}